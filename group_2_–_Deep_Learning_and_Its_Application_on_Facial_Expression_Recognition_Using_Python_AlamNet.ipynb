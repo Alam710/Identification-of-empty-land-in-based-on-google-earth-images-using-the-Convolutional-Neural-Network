{
  "nbformat": 4,
  "nbformat_minor": 0,
  "metadata": {
    "colab": {
      "name": "group 2 – Deep Learning and Its Application on Facial Expression Recognition Using Python_AlamNet",
      "provenance": [],
      "collapsed_sections": [],
      "mount_file_id": "1n1tyPDgETkHIV74qHEI7d1unhfR0zUkd",
      "authorship_tag": "ABX9TyOctg90wwa5eearDH3n4YVV",
      "include_colab_link": true
    },
    "kernelspec": {
      "name": "python3",
      "display_name": "Python 3"
    },
    "language_info": {
      "name": "python"
    },
    "accelerator": "GPU"
  },
  "cells": [
    {
      "cell_type": "markdown",
      "metadata": {
        "id": "view-in-github",
        "colab_type": "text"
      },
      "source": [
        "<a href=\"https://colab.research.google.com/github/Alam710/Identification-of-empty-land-in-Batu-city-based-on-google-earth-images-using-the-Convolutional-Neura/blob/master/group_2_%E2%80%93_Deep_Learning_and_Its_Application_on_Facial_Expression_Recognition_Using_Python_AlamNet.ipynb\" target=\"_parent\"><img src=\"https://colab.research.google.com/assets/colab-badge.svg\" alt=\"Open In Colab\"/></a>"
      ]
    },
    {
      "cell_type": "code",
      "metadata": {
        "colab": {
          "base_uri": "https://localhost:8080/"
        },
        "id": "YJyX58mEqLnA",
        "outputId": "5fcee41d-6b95-4899-bf78-94133db303f7"
      },
      "source": [
        "from google.colab import drive\n",
        "drive.mount('/content/drive/')"
      ],
      "execution_count": null,
      "outputs": [
        {
          "output_type": "stream",
          "name": "stdout",
          "text": [
            "Drive already mounted at /content/drive/; to attempt to forcibly remount, call drive.mount(\"/content/drive/\", force_remount=True).\n"
          ]
        }
      ]
    },
    {
      "cell_type": "code",
      "source": [
        "# %tensorflow_version 1.x"
      ],
      "metadata": {
        "id": "JsYWz8pC_4XE"
      },
      "execution_count": null,
      "outputs": []
    },
    {
      "cell_type": "code",
      "metadata": {
        "colab": {
          "base_uri": "https://localhost:8080/"
        },
        "id": "JwVJnMhwqLp9",
        "outputId": "0a298872-8350-4460-8847-8253817c12f9"
      },
      "source": [
        "import tensorflow as tf\n",
        "print(tf.__version__)"
      ],
      "execution_count": null,
      "outputs": [
        {
          "output_type": "stream",
          "name": "stdout",
          "text": [
            "2.8.0\n"
          ]
        }
      ]
    },
    {
      "cell_type": "code",
      "source": [
        "!pip install -q keras"
      ],
      "metadata": {
        "id": "S-7AbGIRgQ-E"
      },
      "execution_count": null,
      "outputs": []
    },
    {
      "cell_type": "code",
      "source": [
        "import keras"
      ],
      "metadata": {
        "id": "KnE83tM2gXa3"
      },
      "execution_count": null,
      "outputs": []
    },
    {
      "cell_type": "code",
      "source": [
        "import numpy as np\n",
        "import tensorflow as tf\n",
        "from keras.models import Sequential\n",
        "from keras.layers import Dense, MaxPooling2D, Conv2D, Flatten, Dropout\n",
        "from keras.preprocessing.image import ImageDataGenerator\n",
        "from keras.optimizers import sgd_experimental\n",
        "from keras.callbacks import TensorBoard\n",
        "import matplotlib.pyplot as plt\n",
        "import sys, time"
      ],
      "metadata": {
        "id": "lElmf1OygbgK"
      },
      "execution_count": null,
      "outputs": []
    },
    {
      "cell_type": "code",
      "source": [
        "img_width, img_height = 224, 224"
      ],
      "metadata": {
        "id": "0atg2PMjpRqF"
      },
      "execution_count": null,
      "outputs": []
    },
    {
      "cell_type": "code",
      "source": [
        "# !wget https://raw.githubusercontent.com/mrdbourke/tensorflow-deep-learning/main/extras/helper_functions.py"
      ],
      "metadata": {
        "id": "b6bNgBAxNIMN"
      },
      "execution_count": null,
      "outputs": []
    },
    {
      "cell_type": "code",
      "source": [
        "# from helper_functions import create_tensorboard_callback, plot_loss_curves, unzip_data, compare_historys, walk_through_dir"
      ],
      "metadata": {
        "id": "O8jRUfRdNOh8"
      },
      "execution_count": null,
      "outputs": []
    },
    {
      "cell_type": "code",
      "metadata": {
        "id": "hlOmlXO7qLs1"
      },
      "source": [
        "train_data_dir = '/content/drive/MyDrive/Colab_Notebooks/Data_Ekspresi_wajah_Dasar/data train'\n",
        "validation_data_dir = '/content/drive/MyDrive/Colab_Notebooks/Data_Ekspresi_wajah_Dasar/data test'\n",
        "nb_train_samples = 570\n",
        "nb_validation_samples = 114\n",
        "epochs = 100\n",
        "batch_size = 16"
      ],
      "execution_count": null,
      "outputs": []
    },
    {
      "cell_type": "code",
      "metadata": {
        "id": "n4VjeOMKqLvm"
      },
      "source": [
        "from tensorflow.keras.preprocessing.image import ImageDataGenerator\n",
        "# Training Data Augmentation\n",
        "train_datagen = ImageDataGenerator(\n",
        "                    rescale=1./255,\n",
        "                    rotation_range=20,\n",
        "                    horizontal_flip=True,\n",
        "                    shear_range = 0.2,\n",
        "                    fill_mode = 'nearest')\n",
        " \n",
        "test_datagen = ImageDataGenerator(\n",
        "                    rescale=1./255,\n",
        "                    rotation_range=20,\n",
        "                    horizontal_flip=True,\n",
        "                    shear_range = 0.2,\n",
        "                    fill_mode = 'nearest')"
      ],
      "execution_count": null,
      "outputs": []
    },
    {
      "cell_type": "code",
      "metadata": {
        "colab": {
          "base_uri": "https://localhost:8080/"
        },
        "id": "zaCoW-QBqLyN",
        "outputId": "b65e8802-9484-4ed0-e029-cbee8b01b729"
      },
      "source": [
        "train_generator = train_datagen.flow_from_directory(\n",
        "    train_data_dir,\n",
        "    target_size=(224, 224),\n",
        "  #  color_mode=\"grayscale\",\n",
        "    batch_size=batch_size,\n",
        "    class_mode='categorical')"
      ],
      "execution_count": null,
      "outputs": [
        {
          "output_type": "stream",
          "name": "stdout",
          "text": [
            "Found 694 images belonging to 3 classes.\n"
          ]
        }
      ]
    },
    {
      "cell_type": "code",
      "metadata": {
        "colab": {
          "base_uri": "https://localhost:8080/"
        },
        "id": "6Rf1vM4-qL1A",
        "outputId": "8d5f2818-d007-49c1-afa2-001b827bc532"
      },
      "source": [
        "validation_generator = test_datagen.flow_from_directory(\n",
        "    validation_data_dir,\n",
        "    target_size=(224, 224),\n",
        "    batch_size=batch_size,\n",
        "    class_mode='categorical')"
      ],
      "execution_count": null,
      "outputs": [
        {
          "output_type": "stream",
          "name": "stdout",
          "text": [
            "Found 72 images belonging to 3 classes.\n"
          ]
        }
      ]
    },
    {
      "cell_type": "code",
      "metadata": {
        "id": "F67FArShqL3n",
        "colab": {
          "base_uri": "https://localhost:8080/",
          "height": 105
        },
        "outputId": "237418ae-a1ae-4bad-c14d-fefcfbb14e04"
      },
      "source": [
        "\"\"\"from keras.layers.normalization.batch_normalization import BatchNormalization\n",
        "from keras import layers\"\"\"\n",
        "\n",
        "\n",
        "\n",
        "\"\"\"\n",
        "from tensorflow.keras.layers import Input\n",
        "from tensorflow.keras.applications import DenseNet121\n",
        "from tensorflow.keras.applications import ResNet50\n",
        "from tensorflow.keras.applications import ResNet152V2\n",
        "from tensorflow.keras.applications import EfficientNetB0\n",
        "\"\"\"\n",
        "\n",
        "\"\"\"\n",
        "model = tf.keras.models.Sequential([\n",
        "    DenseNet121(weights=\"imagenet\", include_top=False, input_tensor=Input(shape=(224, 224, 3))),\n",
        "    #tf.keras.layers.Dropout(0.4),\n",
        "    tf.keras.layers.Flatten(), \n",
        "    tf.keras.layers.Dense(512, activation='relu'),\n",
        "    tf.keras.layers.Dense(256, activation='relu'),\n",
        "    tf.keras.layers.Dense(3, activation='softmax')  \n",
        "])\n",
        "model.layers[0].trainable = False\n",
        "\"\"\"\n",
        "\"\"\"\n",
        "import tensorflow as tf\n",
        "model = tf.keras.models.Sequential([\n",
        "    tf.keras.layers.Conv2D(32, (3,3), activation='relu', input_shape=(150, 150, 3)),\n",
        "    tf.keras.layers.MaxPooling2D(2,2),\n",
        "    tf.keras.layers.Conv2D(64, (3,3), activation='relu'),\n",
        "    tf.keras.layers.MaxPooling2D(2,2),\n",
        "    tf.keras.layers.Conv2D(128, (3,3), activation='relu'),\n",
        "    tf.keras.layers.MaxPooling2D(2,2),\n",
        "    tf.keras.layers.Conv2D(128, (3,3), activation='relu'),\n",
        "    tf.keras.layers.MaxPooling2D(2,2),\n",
        "    tf.keras.layers.Flatten(),\n",
        "    tf.keras.layers.Dense(512, activation='relu'),\n",
        "    tf.keras.layers.Dense(3, activation='softmax')\n",
        "])\n",
        "\"\"\"\n",
        "model = tf.keras.models.Sequential([\n",
        "    tf.keras.layers.Conv2D(filters=32, kernel_size=5, strides=(1,1), padding=\"same\", input_shape=(img_width, img_height, 3), activation=tf.keras.activations.relu),\n",
        "    tf.keras.layers.BatchNormalization(),\n",
        "    tf.keras.layers.MaxPooling2D(2,2),\n",
        "    tf.keras.layers.Conv2D(filters=64, kernel_size=5, strides=(1,1), padding=\"same\", activation=tf.keras.activations.relu),\n",
        "    tf.keras.layers.BatchNormalization(),\n",
        "    tf.keras.layers.MaxPooling2D(2,2),\n",
        "    tf.keras.layers.Dropout(0.5),\n",
        "    tf.keras.layers.Flatten(),\n",
        "    tf.keras.layers.Dense(256, activation=tf.keras.activations.relu),\n",
        "    tf.keras.layers.Dropout(0.5),\n",
        "    tf.keras.layers.Dense(3, activation=tf.keras.activations.softmax)\n",
        "])\n",
        "\n",
        "\"\"\"\n",
        "# model\n",
        "model = Sequential()\n",
        "\n",
        "#CNN Layer\n",
        "model.add(Conv2D(filters=32, kernel_size=5, strides=(1,1), padding='same', \n",
        "                     input_shape=(img_width, img_height, 3), activation='relu'))\n",
        "model.add(BatchNormalization())\n",
        "\n",
        "model.add(MaxPooling2D(pool_size=2))\n",
        "\n",
        "model.add(Conv2D(filters=64, kernel_size=5, strides=(1,1), padding='same',\n",
        "                 activation='relu'))\n",
        "model.add(BatchNormalization())\n",
        "model.add(MaxPooling2D(pool_size=2))\n",
        "\n",
        "model.add(Dropout(0.5))\n",
        "    \n",
        "#flatten\n",
        "model.add(Flatten())\n",
        "\n",
        "#FC Layer\n",
        "model.add(Dense(256, activation='relu'))\n",
        "\n",
        "model.add(Dropout(0.5))\n",
        "model.add(Dense(3, activation='softmax'))\"\"\""
      ],
      "execution_count": null,
      "outputs": [
        {
          "output_type": "execute_result",
          "data": {
            "application/vnd.google.colaboratory.intrinsic+json": {
              "type": "string"
            },
            "text/plain": [
              "\"\\n# model\\nmodel = Sequential()\\n\\n#CNN Layer\\nmodel.add(Conv2D(filters=32, kernel_size=5, strides=(1,1), padding='same', \\n                     input_shape=(img_width, img_height, 3), activation='relu'))\\nmodel.add(BatchNormalization())\\n\\nmodel.add(MaxPooling2D(pool_size=2))\\n\\nmodel.add(Conv2D(filters=64, kernel_size=5, strides=(1,1), padding='same',\\n                 activation='relu'))\\nmodel.add(BatchNormalization())\\nmodel.add(MaxPooling2D(pool_size=2))\\n\\nmodel.add(Dropout(0.5))\\n    \\n#flatten\\nmodel.add(Flatten())\\n\\n#FC Layer\\nmodel.add(Dense(256, activation='relu'))\\n\\nmodel.add(Dropout(0.5))\\nmodel.add(Dense(3, activation='softmax'))\""
            ]
          },
          "metadata": {},
          "execution_count": 14
        }
      ]
    },
    {
      "cell_type": "code",
      "metadata": {
        "id": "9P2Y9117qL6f",
        "colab": {
          "base_uri": "https://localhost:8080/",
          "height": 53
        },
        "outputId": "05915998-422b-4b4d-ee0e-417b7a630847"
      },
      "source": [
        "from keras import optimizers\n",
        "model.compile(loss=\"categorical_crossentropy\",\n",
        "              optimizer=tf.keras.optimizers.SGD(learning_rate=0.01),\n",
        "              metrics=[\"accuracy\"]\n",
        "              )\n",
        "\"\"\"model.compile(loss=\"categorical_crossentropy\",\n",
        "              optimizer=tf.keras.optimizers.Adam(learning_rate=0.01),\n",
        "              metrics=[\"accuracy\"])\"\"\""
      ],
      "execution_count": null,
      "outputs": [
        {
          "output_type": "execute_result",
          "data": {
            "application/vnd.google.colaboratory.intrinsic+json": {
              "type": "string"
            },
            "text/plain": [
              "'model.compile(loss=\"categorical_crossentropy\",\\n              optimizer=tf.keras.optimizers.Adam(learning_rate=0.01),\\n              metrics=[\"accuracy\"])'"
            ]
          },
          "metadata": {},
          "execution_count": 15
        }
      ]
    },
    {
      "cell_type": "code",
      "metadata": {
        "colab": {
          "base_uri": "https://localhost:8080/"
        },
        "id": "T3hPptMlAqw2",
        "outputId": "d2a357c4-654c-453f-fde4-45873a4ef598"
      },
      "source": [
        "print(model.summary())"
      ],
      "execution_count": null,
      "outputs": [
        {
          "output_type": "stream",
          "name": "stdout",
          "text": [
            "Model: \"sequential\"\n",
            "_________________________________________________________________\n",
            " Layer (type)                Output Shape              Param #   \n",
            "=================================================================\n",
            " conv2d (Conv2D)             (None, 224, 224, 32)      2432      \n",
            "                                                                 \n",
            " batch_normalization (BatchN  (None, 224, 224, 32)     128       \n",
            " ormalization)                                                   \n",
            "                                                                 \n",
            " max_pooling2d (MaxPooling2D  (None, 112, 112, 32)     0         \n",
            " )                                                               \n",
            "                                                                 \n",
            " conv2d_1 (Conv2D)           (None, 112, 112, 64)      51264     \n",
            "                                                                 \n",
            " batch_normalization_1 (Batc  (None, 112, 112, 64)     256       \n",
            " hNormalization)                                                 \n",
            "                                                                 \n",
            " max_pooling2d_1 (MaxPooling  (None, 56, 56, 64)       0         \n",
            " 2D)                                                             \n",
            "                                                                 \n",
            " dropout (Dropout)           (None, 56, 56, 64)        0         \n",
            "                                                                 \n",
            " flatten (Flatten)           (None, 200704)            0         \n",
            "                                                                 \n",
            " dense (Dense)               (None, 256)               51380480  \n",
            "                                                                 \n",
            " dropout_1 (Dropout)         (None, 256)               0         \n",
            "                                                                 \n",
            " dense_1 (Dense)             (None, 3)                 771       \n",
            "                                                                 \n",
            "=================================================================\n",
            "Total params: 51,435,331\n",
            "Trainable params: 51,435,139\n",
            "Non-trainable params: 192\n",
            "_________________________________________________________________\n",
            "None\n"
          ]
        }
      ]
    },
    {
      "cell_type": "code",
      "metadata": {
        "id": "0RBXA1BjGy-b"
      },
      "source": [
        "class myCallback(tf.keras.callbacks.Callback):\n",
        "  def on_epoch_end(self, epoch, logs={}):\n",
        "    if(logs.get('accuracy')>0.97):\n",
        "      print(\"\\nAkurasi telah mencapai > 90%!\")\n",
        "      self.model.stop_training = True\n",
        "\n",
        "callbacks = myCallback()"
      ],
      "execution_count": null,
      "outputs": []
    },
    {
      "cell_type": "code",
      "metadata": {
        "id": "VRm6jP0SA4Fp"
      },
      "source": [
        "# checkpoints\n",
        "from tensorflow.keras.callbacks import ModelCheckpoint\n",
        "weightpath = \"model\"\n",
        "checkpoints = ModelCheckpoint(weightpath, monitor='val_acc', verbose=1, save_best_only=True, save_weights_only=True, mode='max')\n",
        "callback_list = [checkpoints]"
      ],
      "execution_count": null,
      "outputs": []
    },
    {
      "cell_type": "code",
      "metadata": {
        "id": "Y7qWhB_qA4IX"
      },
      "source": [
        "from tensorflow.keras.callbacks import TensorBoard\n",
        "# TensorBoard Callbacks\n",
        "callbacks = TensorBoard(log_dir='./Graph')"
      ],
      "execution_count": null,
      "outputs": []
    },
    {
      "cell_type": "code",
      "metadata": {
        "id": "gDYw-ZStA4LX"
      },
      "source": [
        "def print_time_taken(start_time, end_time):\n",
        "    secs_elapsed = end_time - start_time\n",
        "    \n",
        "    SECS_PER_MIN = 60\n",
        "    SECS_PER_HR  = 60 * SECS_PER_MIN\n",
        "    \n",
        "    hrs_elapsed, secs_elapsed = divmod(secs_elapsed, SECS_PER_HR)\n",
        "    mins_elapsed, secs_elapsed = divmod(secs_elapsed, SECS_PER_MIN)\n",
        "    \n",
        "    if hrs_elapsed > 0:\n",
        "        print('Time taken: %d hrs %d mins %d secs' % (hrs_elapsed, mins_elapsed, secs_elapsed))\n",
        "    elif mins_elapsed > 0:\n",
        "        print('Time taken: %d mins %d secs' % (mins_elapsed, secs_elapsed))\n",
        "    elif secs_elapsed > 1:\n",
        "        print('Time taken: %d secs' % (secs_elapsed))\n",
        "    else:\n",
        "        print('Time taken - less than 1 sec')"
      ],
      "execution_count": null,
      "outputs": []
    },
    {
      "cell_type": "code",
      "metadata": {
        "colab": {
          "base_uri": "https://localhost:8080/"
        },
        "id": "FiJVr0BEBoaC",
        "outputId": "b2bc4862-fe52-4408-9b3a-e8c94299b2c2"
      },
      "source": [
        "\n",
        "# train\n",
        " \n",
        "import sys, time\n",
        "start_time = time.time()\n",
        "\"\"\"\n",
        "history = model.fit(\n",
        "    train_generator,\n",
        "    steps_per_epoch=nb_train_samples // batch_size,\n",
        "    epochs=epochs,\n",
        "    validation_data=validation_generator,\n",
        "    validation_steps=nb_validation_samples // batch_size, \n",
        "    callbacks=[callbacks])\"\"\"\n",
        "\n",
        "history = model.fit(train_generator,\n",
        "                    steps_per_epoch=len(train_generator),\n",
        "                    validation_data=validation_generator,\n",
        "                    # validation_steps=72 *0.15,\n",
        "                    epochs=100,\n",
        "                    verbose=2,\n",
        "                    callbacks=[callbacks]                    \n",
        "                    )\n",
        "\"\"\"\n",
        "history = model.fit(train_generator,\n",
        "                              validation_data=validation_generator,\n",
        "                              epochs=100,\n",
        "                              verbose=2)\"\"\"\n",
        "end_time = time.time()\n",
        "print_time_taken(start_time, end_time)"
      ],
      "execution_count": null,
      "outputs": [
        {
          "output_type": "stream",
          "name": "stdout",
          "text": [
            "Epoch 1/100\n",
            "44/44 - 318s - loss: 20.9690 - accuracy: 0.4323 - val_loss: 7.0585 - val_accuracy: 0.3750 - 318s/epoch - 7s/step\n",
            "Epoch 2/100\n",
            "44/44 - 11s - loss: 2.1287 - accuracy: 0.4452 - val_loss: 2.0080 - val_accuracy: 0.3889 - 11s/epoch - 239ms/step\n",
            "Epoch 3/100\n",
            "44/44 - 10s - loss: 1.1591 - accuracy: 0.4870 - val_loss: 1.7819 - val_accuracy: 0.3472 - 10s/epoch - 238ms/step\n",
            "Epoch 4/100\n",
            "44/44 - 10s - loss: 1.0400 - accuracy: 0.5432 - val_loss: 1.1163 - val_accuracy: 0.5278 - 10s/epoch - 238ms/step\n",
            "Epoch 5/100\n",
            "44/44 - 10s - loss: 1.0102 - accuracy: 0.5461 - val_loss: 1.0676 - val_accuracy: 0.5417 - 10s/epoch - 236ms/step\n",
            "Epoch 6/100\n",
            "44/44 - 10s - loss: 0.9449 - accuracy: 0.5865 - val_loss: 1.0676 - val_accuracy: 0.5972 - 10s/epoch - 234ms/step\n",
            "Epoch 7/100\n",
            "44/44 - 10s - loss: 0.9329 - accuracy: 0.5865 - val_loss: 0.7990 - val_accuracy: 0.6944 - 10s/epoch - 237ms/step\n",
            "Epoch 8/100\n",
            "44/44 - 10s - loss: 0.8406 - accuracy: 0.6297 - val_loss: 0.8159 - val_accuracy: 0.6250 - 10s/epoch - 238ms/step\n",
            "Epoch 9/100\n",
            "44/44 - 10s - loss: 0.8580 - accuracy: 0.6369 - val_loss: 0.7288 - val_accuracy: 0.6944 - 10s/epoch - 236ms/step\n",
            "Epoch 10/100\n",
            "44/44 - 10s - loss: 0.8357 - accuracy: 0.6628 - val_loss: 0.6996 - val_accuracy: 0.7222 - 10s/epoch - 234ms/step\n",
            "Epoch 11/100\n",
            "44/44 - 10s - loss: 0.7585 - accuracy: 0.6527 - val_loss: 0.7372 - val_accuracy: 0.6667 - 10s/epoch - 238ms/step\n",
            "Epoch 12/100\n",
            "44/44 - 10s - loss: 0.7676 - accuracy: 0.7104 - val_loss: 0.5557 - val_accuracy: 0.7639 - 10s/epoch - 237ms/step\n",
            "Epoch 13/100\n",
            "44/44 - 10s - loss: 0.7360 - accuracy: 0.7118 - val_loss: 0.5273 - val_accuracy: 0.7639 - 10s/epoch - 236ms/step\n",
            "Epoch 14/100\n",
            "44/44 - 10s - loss: 0.7158 - accuracy: 0.6945 - val_loss: 0.5071 - val_accuracy: 0.8056 - 10s/epoch - 233ms/step\n",
            "Epoch 15/100\n",
            "44/44 - 10s - loss: 0.7013 - accuracy: 0.7219 - val_loss: 0.8474 - val_accuracy: 0.6528 - 10s/epoch - 236ms/step\n",
            "Epoch 16/100\n",
            "44/44 - 10s - loss: 0.6806 - accuracy: 0.7233 - val_loss: 0.4594 - val_accuracy: 0.8194 - 10s/epoch - 237ms/step\n",
            "Epoch 17/100\n",
            "44/44 - 10s - loss: 0.6831 - accuracy: 0.7305 - val_loss: 0.5004 - val_accuracy: 0.7917 - 10s/epoch - 237ms/step\n",
            "Epoch 18/100\n",
            "44/44 - 11s - loss: 0.6666 - accuracy: 0.7305 - val_loss: 0.5837 - val_accuracy: 0.6944 - 11s/epoch - 248ms/step\n",
            "Epoch 19/100\n",
            "44/44 - 10s - loss: 0.6516 - accuracy: 0.7464 - val_loss: 0.5642 - val_accuracy: 0.7083 - 10s/epoch - 236ms/step\n",
            "Epoch 20/100\n",
            "44/44 - 10s - loss: 0.6610 - accuracy: 0.7219 - val_loss: 0.4832 - val_accuracy: 0.7500 - 10s/epoch - 234ms/step\n",
            "Epoch 21/100\n",
            "44/44 - 10s - loss: 0.5817 - accuracy: 0.7622 - val_loss: 0.4241 - val_accuracy: 0.8333 - 10s/epoch - 236ms/step\n",
            "Epoch 22/100\n",
            "44/44 - 10s - loss: 0.5393 - accuracy: 0.7738 - val_loss: 0.4859 - val_accuracy: 0.7778 - 10s/epoch - 232ms/step\n",
            "Epoch 23/100\n",
            "44/44 - 10s - loss: 0.6092 - accuracy: 0.7594 - val_loss: 0.5416 - val_accuracy: 0.7639 - 10s/epoch - 237ms/step\n",
            "Epoch 24/100\n",
            "44/44 - 10s - loss: 0.5862 - accuracy: 0.7795 - val_loss: 0.5124 - val_accuracy: 0.7917 - 10s/epoch - 235ms/step\n",
            "Epoch 25/100\n",
            "44/44 - 10s - loss: 0.5415 - accuracy: 0.8112 - val_loss: 0.4533 - val_accuracy: 0.7778 - 10s/epoch - 235ms/step\n",
            "Epoch 26/100\n",
            "44/44 - 10s - loss: 0.6555 - accuracy: 0.7478 - val_loss: 0.4959 - val_accuracy: 0.7639 - 10s/epoch - 238ms/step\n",
            "Epoch 27/100\n",
            "44/44 - 10s - loss: 0.5421 - accuracy: 0.7867 - val_loss: 0.4253 - val_accuracy: 0.8056 - 10s/epoch - 238ms/step\n",
            "Epoch 28/100\n",
            "44/44 - 10s - loss: 0.5397 - accuracy: 0.7911 - val_loss: 0.4419 - val_accuracy: 0.7917 - 10s/epoch - 234ms/step\n",
            "Epoch 29/100\n",
            "44/44 - 10s - loss: 0.5306 - accuracy: 0.8055 - val_loss: 0.4051 - val_accuracy: 0.8333 - 10s/epoch - 233ms/step\n",
            "Epoch 30/100\n",
            "44/44 - 10s - loss: 0.5065 - accuracy: 0.7882 - val_loss: 0.3251 - val_accuracy: 0.8750 - 10s/epoch - 234ms/step\n",
            "Epoch 31/100\n",
            "44/44 - 10s - loss: 0.5372 - accuracy: 0.7911 - val_loss: 0.3302 - val_accuracy: 0.8333 - 10s/epoch - 234ms/step\n",
            "Epoch 32/100\n",
            "44/44 - 10s - loss: 0.4756 - accuracy: 0.8228 - val_loss: 0.6101 - val_accuracy: 0.7917 - 10s/epoch - 235ms/step\n",
            "Epoch 33/100\n",
            "44/44 - 10s - loss: 0.4977 - accuracy: 0.8213 - val_loss: 0.3613 - val_accuracy: 0.8472 - 10s/epoch - 236ms/step\n",
            "Epoch 34/100\n",
            "44/44 - 10s - loss: 0.4832 - accuracy: 0.8415 - val_loss: 0.3571 - val_accuracy: 0.8472 - 10s/epoch - 233ms/step\n",
            "Epoch 35/100\n",
            "44/44 - 11s - loss: 0.4175 - accuracy: 0.8444 - val_loss: 0.6576 - val_accuracy: 0.8194 - 11s/epoch - 242ms/step\n",
            "Epoch 36/100\n",
            "44/44 - 10s - loss: 0.4786 - accuracy: 0.8228 - val_loss: 1.0856 - val_accuracy: 0.6389 - 10s/epoch - 238ms/step\n",
            "Epoch 37/100\n",
            "44/44 - 10s - loss: 0.4339 - accuracy: 0.8271 - val_loss: 0.3998 - val_accuracy: 0.7917 - 10s/epoch - 234ms/step\n",
            "Epoch 38/100\n",
            "44/44 - 11s - loss: 0.3792 - accuracy: 0.8458 - val_loss: 0.2922 - val_accuracy: 0.9028 - 11s/epoch - 253ms/step\n",
            "Epoch 39/100\n",
            "44/44 - 10s - loss: 0.4166 - accuracy: 0.8487 - val_loss: 0.3960 - val_accuracy: 0.8194 - 10s/epoch - 235ms/step\n",
            "Epoch 40/100\n",
            "44/44 - 11s - loss: 0.4071 - accuracy: 0.8444 - val_loss: 0.5778 - val_accuracy: 0.7917 - 11s/epoch - 244ms/step\n",
            "Epoch 41/100\n",
            "44/44 - 10s - loss: 0.4196 - accuracy: 0.8473 - val_loss: 0.2867 - val_accuracy: 0.8750 - 10s/epoch - 237ms/step\n",
            "Epoch 42/100\n",
            "44/44 - 10s - loss: 0.3865 - accuracy: 0.8530 - val_loss: 0.3785 - val_accuracy: 0.8333 - 10s/epoch - 234ms/step\n",
            "Epoch 43/100\n",
            "44/44 - 10s - loss: 0.4073 - accuracy: 0.8473 - val_loss: 0.3504 - val_accuracy: 0.8750 - 10s/epoch - 236ms/step\n",
            "Epoch 44/100\n",
            "44/44 - 10s - loss: 0.5180 - accuracy: 0.8256 - val_loss: 0.4064 - val_accuracy: 0.8750 - 10s/epoch - 234ms/step\n",
            "Epoch 45/100\n",
            "44/44 - 10s - loss: 0.3745 - accuracy: 0.8530 - val_loss: 0.3894 - val_accuracy: 0.8056 - 10s/epoch - 236ms/step\n",
            "Epoch 46/100\n",
            "44/44 - 10s - loss: 0.3749 - accuracy: 0.8530 - val_loss: 0.2383 - val_accuracy: 0.9167 - 10s/epoch - 235ms/step\n",
            "Epoch 47/100\n",
            "44/44 - 11s - loss: 0.3687 - accuracy: 0.8386 - val_loss: 0.2903 - val_accuracy: 0.8194 - 11s/epoch - 246ms/step\n",
            "Epoch 48/100\n",
            "44/44 - 11s - loss: 0.3453 - accuracy: 0.8718 - val_loss: 0.3101 - val_accuracy: 0.8611 - 11s/epoch - 240ms/step\n",
            "Epoch 49/100\n",
            "44/44 - 10s - loss: 0.4377 - accuracy: 0.8487 - val_loss: 0.4284 - val_accuracy: 0.8333 - 10s/epoch - 234ms/step\n",
            "Epoch 50/100\n",
            "44/44 - 10s - loss: 0.3661 - accuracy: 0.8646 - val_loss: 0.3465 - val_accuracy: 0.8333 - 10s/epoch - 235ms/step\n",
            "Epoch 51/100\n",
            "44/44 - 10s - loss: 0.3316 - accuracy: 0.8919 - val_loss: 0.2136 - val_accuracy: 0.9444 - 10s/epoch - 235ms/step\n",
            "Epoch 52/100\n",
            "44/44 - 10s - loss: 0.3974 - accuracy: 0.8660 - val_loss: 0.2767 - val_accuracy: 0.8750 - 10s/epoch - 233ms/step\n",
            "Epoch 53/100\n",
            "44/44 - 10s - loss: 0.3848 - accuracy: 0.8501 - val_loss: 0.2881 - val_accuracy: 0.9028 - 10s/epoch - 235ms/step\n",
            "Epoch 54/100\n",
            "44/44 - 11s - loss: 0.2995 - accuracy: 0.8790 - val_loss: 0.2595 - val_accuracy: 0.9028 - 11s/epoch - 240ms/step\n",
            "Epoch 55/100\n",
            "44/44 - 10s - loss: 0.3034 - accuracy: 0.8890 - val_loss: 0.2492 - val_accuracy: 0.9167 - 10s/epoch - 236ms/step\n",
            "Epoch 56/100\n",
            "44/44 - 10s - loss: 0.3220 - accuracy: 0.8804 - val_loss: 0.2885 - val_accuracy: 0.8333 - 10s/epoch - 236ms/step\n",
            "Epoch 57/100\n",
            "44/44 - 10s - loss: 0.3472 - accuracy: 0.8862 - val_loss: 0.2294 - val_accuracy: 0.9444 - 10s/epoch - 235ms/step\n",
            "Epoch 58/100\n",
            "44/44 - 10s - loss: 0.2984 - accuracy: 0.8775 - val_loss: 0.4474 - val_accuracy: 0.8333 - 10s/epoch - 234ms/step\n",
            "Epoch 59/100\n",
            "44/44 - 10s - loss: 0.3154 - accuracy: 0.8948 - val_loss: 0.1799 - val_accuracy: 0.9583 - 10s/epoch - 233ms/step\n",
            "Epoch 60/100\n",
            "44/44 - 10s - loss: 0.3247 - accuracy: 0.8775 - val_loss: 0.2004 - val_accuracy: 0.9028 - 10s/epoch - 234ms/step\n",
            "Epoch 61/100\n",
            "44/44 - 10s - loss: 0.2961 - accuracy: 0.8934 - val_loss: 0.3384 - val_accuracy: 0.8194 - 10s/epoch - 235ms/step\n",
            "Epoch 62/100\n",
            "44/44 - 10s - loss: 0.2795 - accuracy: 0.8804 - val_loss: 0.1681 - val_accuracy: 0.9444 - 10s/epoch - 235ms/step\n",
            "Epoch 63/100\n",
            "44/44 - 10s - loss: 0.2917 - accuracy: 0.8890 - val_loss: 0.1710 - val_accuracy: 0.9583 - 10s/epoch - 236ms/step\n",
            "Epoch 64/100\n",
            "44/44 - 10s - loss: 0.2780 - accuracy: 0.8948 - val_loss: 0.1716 - val_accuracy: 0.9306 - 10s/epoch - 236ms/step\n",
            "Epoch 65/100\n",
            "44/44 - 10s - loss: 0.2918 - accuracy: 0.9121 - val_loss: 0.1518 - val_accuracy: 0.9722 - 10s/epoch - 233ms/step\n",
            "Epoch 66/100\n",
            "44/44 - 10s - loss: 0.3022 - accuracy: 0.8818 - val_loss: 0.2167 - val_accuracy: 0.9028 - 10s/epoch - 236ms/step\n",
            "Epoch 67/100\n",
            "44/44 - 10s - loss: 0.2355 - accuracy: 0.9107 - val_loss: 0.1627 - val_accuracy: 0.9306 - 10s/epoch - 232ms/step\n",
            "Epoch 68/100\n",
            "44/44 - 10s - loss: 0.2409 - accuracy: 0.9121 - val_loss: 0.2195 - val_accuracy: 0.8889 - 10s/epoch - 238ms/step\n",
            "Epoch 69/100\n",
            "44/44 - 10s - loss: 0.2542 - accuracy: 0.9078 - val_loss: 0.2856 - val_accuracy: 0.8472 - 10s/epoch - 238ms/step\n",
            "Epoch 70/100\n",
            "44/44 - 10s - loss: 0.2518 - accuracy: 0.9049 - val_loss: 0.2021 - val_accuracy: 0.9028 - 10s/epoch - 236ms/step\n",
            "Epoch 71/100\n",
            "44/44 - 10s - loss: 0.2798 - accuracy: 0.8847 - val_loss: 0.2108 - val_accuracy: 0.9306 - 10s/epoch - 236ms/step\n",
            "Epoch 72/100\n",
            "44/44 - 10s - loss: 0.2147 - accuracy: 0.9135 - val_loss: 0.2176 - val_accuracy: 0.9028 - 10s/epoch - 236ms/step\n",
            "Epoch 73/100\n",
            "44/44 - 10s - loss: 0.2366 - accuracy: 0.9236 - val_loss: 0.2102 - val_accuracy: 0.9306 - 10s/epoch - 236ms/step\n",
            "Epoch 74/100\n",
            "44/44 - 10s - loss: 0.2290 - accuracy: 0.9251 - val_loss: 0.2889 - val_accuracy: 0.8472 - 10s/epoch - 236ms/step\n",
            "Epoch 75/100\n",
            "44/44 - 10s - loss: 0.3063 - accuracy: 0.8963 - val_loss: 0.1566 - val_accuracy: 0.9444 - 10s/epoch - 232ms/step\n",
            "Epoch 76/100\n",
            "44/44 - 10s - loss: 0.2138 - accuracy: 0.9294 - val_loss: 0.1650 - val_accuracy: 0.9444 - 10s/epoch - 237ms/step\n",
            "Epoch 77/100\n",
            "44/44 - 11s - loss: 0.2790 - accuracy: 0.8963 - val_loss: 0.2511 - val_accuracy: 0.9306 - 11s/epoch - 245ms/step\n",
            "Epoch 78/100\n",
            "44/44 - 11s - loss: 0.2310 - accuracy: 0.9164 - val_loss: 0.1932 - val_accuracy: 0.9306 - 11s/epoch - 244ms/step\n",
            "Epoch 79/100\n",
            "44/44 - 11s - loss: 0.2499 - accuracy: 0.8991 - val_loss: 0.1808 - val_accuracy: 0.9306 - 11s/epoch - 241ms/step\n",
            "Epoch 80/100\n",
            "44/44 - 10s - loss: 0.2398 - accuracy: 0.9049 - val_loss: 0.2585 - val_accuracy: 0.9028 - 10s/epoch - 236ms/step\n",
            "Epoch 81/100\n",
            "44/44 - 10s - loss: 0.2285 - accuracy: 0.9107 - val_loss: 0.1679 - val_accuracy: 0.9028 - 10s/epoch - 235ms/step\n",
            "Epoch 82/100\n",
            "44/44 - 10s - loss: 0.1688 - accuracy: 0.9395 - val_loss: 0.1610 - val_accuracy: 0.9306 - 10s/epoch - 234ms/step\n",
            "Epoch 83/100\n",
            "44/44 - 10s - loss: 0.1844 - accuracy: 0.9251 - val_loss: 0.1549 - val_accuracy: 0.9306 - 10s/epoch - 233ms/step\n",
            "Epoch 84/100\n",
            "44/44 - 10s - loss: 0.1886 - accuracy: 0.9380 - val_loss: 0.2288 - val_accuracy: 0.9444 - 10s/epoch - 236ms/step\n",
            "Epoch 85/100\n",
            "44/44 - 10s - loss: 0.2116 - accuracy: 0.9121 - val_loss: 0.1378 - val_accuracy: 0.9167 - 10s/epoch - 236ms/step\n",
            "Epoch 86/100\n",
            "44/44 - 10s - loss: 0.2175 - accuracy: 0.9251 - val_loss: 0.1213 - val_accuracy: 0.9306 - 10s/epoch - 236ms/step\n",
            "Epoch 87/100\n",
            "44/44 - 10s - loss: 0.1691 - accuracy: 0.9337 - val_loss: 0.1372 - val_accuracy: 0.9444 - 10s/epoch - 234ms/step\n",
            "Epoch 88/100\n",
            "44/44 - 10s - loss: 0.2230 - accuracy: 0.9193 - val_loss: 0.0702 - val_accuracy: 0.9861 - 10s/epoch - 235ms/step\n",
            "Epoch 89/100\n",
            "44/44 - 11s - loss: 0.2259 - accuracy: 0.9222 - val_loss: 0.1333 - val_accuracy: 0.9722 - 11s/epoch - 240ms/step\n",
            "Epoch 90/100\n",
            "44/44 - 10s - loss: 0.1695 - accuracy: 0.9438 - val_loss: 0.4749 - val_accuracy: 0.8194 - 10s/epoch - 234ms/step\n",
            "Epoch 91/100\n",
            "44/44 - 10s - loss: 0.1962 - accuracy: 0.9280 - val_loss: 0.1386 - val_accuracy: 0.9583 - 10s/epoch - 233ms/step\n",
            "Epoch 92/100\n",
            "44/44 - 10s - loss: 0.1792 - accuracy: 0.9380 - val_loss: 0.0683 - val_accuracy: 1.0000 - 10s/epoch - 237ms/step\n",
            "Epoch 93/100\n",
            "44/44 - 10s - loss: 0.1954 - accuracy: 0.9280 - val_loss: 0.0857 - val_accuracy: 0.9861 - 10s/epoch - 237ms/step\n",
            "Epoch 94/100\n",
            "44/44 - 10s - loss: 0.1402 - accuracy: 0.9524 - val_loss: 0.1793 - val_accuracy: 0.9306 - 10s/epoch - 236ms/step\n",
            "Epoch 95/100\n",
            "44/44 - 10s - loss: 0.1928 - accuracy: 0.9308 - val_loss: 0.0983 - val_accuracy: 0.9722 - 10s/epoch - 237ms/step\n",
            "Epoch 96/100\n",
            "44/44 - 10s - loss: 0.2190 - accuracy: 0.9280 - val_loss: 0.0671 - val_accuracy: 0.9861 - 10s/epoch - 234ms/step\n",
            "Epoch 97/100\n",
            "44/44 - 10s - loss: 0.2284 - accuracy: 0.9207 - val_loss: 0.3872 - val_accuracy: 0.8333 - 10s/epoch - 234ms/step\n",
            "Epoch 98/100\n",
            "44/44 - 10s - loss: 0.2054 - accuracy: 0.9251 - val_loss: 0.1324 - val_accuracy: 0.9167 - 10s/epoch - 233ms/step\n",
            "Epoch 99/100\n",
            "44/44 - 10s - loss: 0.2004 - accuracy: 0.9251 - val_loss: 0.1483 - val_accuracy: 0.9583 - 10s/epoch - 236ms/step\n",
            "Epoch 100/100\n",
            "44/44 - 10s - loss: 0.1725 - accuracy: 0.9366 - val_loss: 0.2259 - val_accuracy: 0.9028 - 10s/epoch - 237ms/step\n",
            "Time taken: 22 mins 47 secs\n"
          ]
        }
      ]
    },
    {
      "cell_type": "code",
      "metadata": {
        "id": "KxK5TsHWHZR7",
        "colab": {
          "base_uri": "https://localhost:8080/",
          "height": 53
        },
        "outputId": "c7aef5a1-a6e4-46bc-f042-0d72b30f8ae0"
      },
      "source": [
        "\"\"\"\n",
        "# Convert the model.\n",
        "converter = tf.lite.TFLiteConverter.from_keras_model(model)\n",
        "tflite_model = converter.convert()\n",
        "\n",
        "# Save the TF Lite model.\n",
        "with tf.io.gfile.GFile('model.tflite', 'wb') as f:\n",
        "  f.write(tflite_model)\n",
        "  \"\"\""
      ],
      "execution_count": null,
      "outputs": [
        {
          "output_type": "execute_result",
          "data": {
            "application/vnd.google.colaboratory.intrinsic+json": {
              "type": "string"
            },
            "text/plain": [
              "\"\\n# Convert the model.\\nconverter = tf.lite.TFLiteConverter.from_keras_model(model)\\ntflite_model = converter.convert()\\n\\n# Save the TF Lite model.\\nwith tf.io.gfile.GFile('model.tflite', 'wb') as f:\\n  f.write(tflite_model)\\n  \""
            ]
          },
          "metadata": {},
          "execution_count": 23
        }
      ]
    },
    {
      "cell_type": "code",
      "metadata": {
        "id": "US8zka63HYYi",
        "colab": {
          "base_uri": "https://localhost:8080/"
        },
        "outputId": "89db2c91-aa44-4b4f-e39c-732f85521d73"
      },
      "source": [
        "# Save the entire model to a HDF5 file.\n",
        "# The '.h5' extension indicates that the model should be saved to HDF5.\n",
        "model.save('my_model.pb') \n",
        "%cd"
      ],
      "execution_count": null,
      "outputs": [
        {
          "output_type": "stream",
          "name": "stdout",
          "text": [
            "INFO:tensorflow:Assets written to: my_model.pb/assets\n",
            "/root\n"
          ]
        }
      ]
    },
    {
      "cell_type": "code",
      "metadata": {
        "id": "gxoOsWU4HYTC",
        "colab": {
          "base_uri": "https://localhost:8080/"
        },
        "outputId": "1349c56d-7e3b-4628-a64d-c82ef2d8cd18"
      },
      "source": [
        "import os\n",
        "import tarfile\n",
        "def tardir(path, tar_name):\n",
        "    with tarfile.open(tar_name, \"w:gz\") as tar_handle:\n",
        "        for root, dirs, files in os.walk(path):\n",
        "            for file in files:\n",
        "                tar_handle.add(os.path.join(root, file))\n",
        "tardir('root/my_model.pb', 'my_model.tar.gz')\n",
        "%cd"
      ],
      "execution_count": null,
      "outputs": [
        {
          "output_type": "stream",
          "name": "stdout",
          "text": [
            "/root\n"
          ]
        }
      ]
    },
    {
      "cell_type": "code",
      "metadata": {
        "id": "sFdK3jejBpqH"
      },
      "source": [
        "nb_train_samples = 694"
      ],
      "execution_count": null,
      "outputs": []
    },
    {
      "cell_type": "code",
      "metadata": {
        "id": "wyQWDK30BptX"
      },
      "source": [
        "nb_validation_samples = 72"
      ],
      "execution_count": null,
      "outputs": []
    },
    {
      "cell_type": "code",
      "metadata": {
        "id": "pux9IGSoB8ku"
      },
      "source": [
        "steps = nb_validation_samples/1"
      ],
      "execution_count": null,
      "outputs": []
    },
    {
      "cell_type": "code",
      "metadata": {
        "id": "9FRksVQZB8fY",
        "colab": {
          "base_uri": "https://localhost:8080/"
        },
        "outputId": "1b9344bf-ab0a-4682-ee85-3f5d666a0a27"
      },
      "source": [
        "evaluate= model.evaluate_generator(validation_generator)"
      ],
      "execution_count": null,
      "outputs": [
        {
          "output_type": "stream",
          "name": "stderr",
          "text": [
            "/usr/local/lib/python3.7/dist-packages/ipykernel_launcher.py:1: UserWarning: `Model.evaluate_generator` is deprecated and will be removed in a future version. Please use `Model.evaluate`, which supports generators.\n",
            "  \"\"\"Entry point for launching an IPython kernel.\n"
          ]
        }
      ]
    },
    {
      "cell_type": "code",
      "metadata": {
        "id": "Ub18DyYZB8TX",
        "colab": {
          "base_uri": "https://localhost:8080/"
        },
        "outputId": "5f30d146-da16-49db-8b39-b8d54a7b03db"
      },
      "source": [
        "print('Test accuracy = {:.2f}'.format(evaluate[1]*100)+'%')"
      ],
      "execution_count": null,
      "outputs": [
        {
          "output_type": "stream",
          "name": "stdout",
          "text": [
            "Test accuracy = 90.28%\n"
          ]
        }
      ]
    },
    {
      "cell_type": "code",
      "metadata": {
        "id": "W43GviejCBcI",
        "colab": {
          "base_uri": "https://localhost:8080/",
          "height": 585
        },
        "outputId": "6df26972-fb67-4495-c749-8d78aaebef31"
      },
      "source": [
        "import matplotlib.pyplot as plt\n",
        "import seaborn as sns\n",
        "sns.set()\n",
        "\n",
        "acc = history.history['accuracy']\n",
        "val_acc = history.history['val_accuracy']\n",
        "loss = history.history['loss']\n",
        "val_loss = history.history['val_loss']\n",
        "epochs = range(1, len(loss) + 1)\n",
        "\n",
        "#accuracy plot\n",
        "plt.plot(epochs, acc, color='green', label='Training Accuracy')\n",
        "plt.plot(epochs, val_acc, color='blue', label='Validation Accuracy')\n",
        "plt.title('Training and Validation Accuracy')\n",
        "plt.ylabel('Accuracy')\n",
        "plt.xlabel('Epoch')\n",
        "plt.legend()\n",
        "\n",
        "plt.figure()\n",
        "#loss plot\n",
        "plt.plot(epochs, loss, color='pink', label='Training Loss')\n",
        "plt.plot(epochs, val_loss, color='red', label='Validation Loss')\n",
        "plt.title('Training and Validation Loss')\n",
        "plt.xlabel('Epoch')\n",
        "plt.ylabel('Loss')\n",
        "plt.legend()\n",
        "\n",
        "plt.show()"
      ],
      "execution_count": null,
      "outputs": [
        {
          "output_type": "display_data",
          "data": {
            "image/png": "[encoded data removed]",
            "text/plain": [
              "<Figure size 432x288 with 1 Axes>"
            ]
          },
          "metadata": {}
        },
        {
          "output_type": "display_data",
          "data": {
            "image/png": "[encoded data removed]",
            "text/plain": [
              "<Figure size 432x288 with 1 Axes>"
            ]
          },
          "metadata": {}
        }
      ]
    },
    {
      "cell_type": "code",
      "source": [
        "\"\"\"from sklearn.metrics import f1_score, precision_score, recall_score, classification_report\n",
        "from tensorflow.keras.models import load_model\n",
        "\n",
        "model = load_model(ModelPath)\n",
        "predict0 = model.predict_classes(x_test)\n",
        "\n",
        "Average = 'macro'\n",
        "Precision = precision_score(y_test, predict0, average = Average)\n",
        "Recall = recall_score(y_test, predict0, average = Average)\n",
        "F1Score = f1_score(y_test, predict0, average = Average)\n",
        "print(\"\\nREPORT\")\n",
        "Report = classification_report(y_true = y_test, y_pred = predict0, target_names = ['Anorganik', 'B3', 'Organik'])\n",
        "print(Report)\n",
        "print(\"\\nPrecision =\", Precision)\n",
        "print(\"Recall =\", Recall)\n",
        "print(\"F1 Score =\", F1Score)\"\"\""
      ],
      "metadata": {
        "id": "53RQuMp5zcUK",
        "colab": {
          "base_uri": "https://localhost:8080/",
          "height": 122
        },
        "outputId": "cac8ba7f-dfec-41cb-fdee-b4f7b73e1fb4"
      },
      "execution_count": null,
      "outputs": [
        {
          "output_type": "execute_result",
          "data": {
            "application/vnd.google.colaboratory.intrinsic+json": {
              "type": "string"
            },
            "text/plain": [
              "'from sklearn.metrics import f1_score, precision_score, recall_score, classification_report\\nfrom tensorflow.keras.models import load_model\\n\\nmodel = load_model(ModelPath)\\npredict0 = model.predict_classes(x_test)\\n\\nAverage = \\'macro\\'\\nPrecision = precision_score(y_test, predict0, average = Average)\\nRecall = recall_score(y_test, predict0, average = Average)\\nF1Score = f1_score(y_test, predict0, average = Average)\\nprint(\"\\nREPORT\")\\nReport = classification_report(y_true = y_test, y_pred = predict0, target_names = [\\'Anorganik\\', \\'B3\\', \\'Organik\\'])\\nprint(Report)\\nprint(\"\\nPrecision =\", Precision)\\nprint(\"Recall =\", Recall)\\nprint(\"F1 Score =\", F1Score)'"
            ]
          },
          "metadata": {},
          "execution_count": 145
        }
      ]
    },
    {
      "cell_type": "code",
      "source": [
        "model.save(\"/content/drive/MyDrive/model_save/Proyek_Akhir_100_e_lr001_2.h5\")"
      ],
      "metadata": {
        "id": "B1ZmTiVUqQta"
      },
      "execution_count": null,
      "outputs": []
    },
    {
      "cell_type": "code",
      "source": [
        "import tensorflow as tf\n",
        "from tensorflow import keras"
      ],
      "metadata": {
        "id": "Ti7Ddc_inc14"
      },
      "execution_count": null,
      "outputs": []
    },
    {
      "cell_type": "code",
      "source": [
        "model = tf.keras.models.load_model('/content/drive/MyDrive/model_save/Proyek_Akhir_100_e_lr001.h5')\n",
        "model.summary()"
      ],
      "metadata": {
        "colab": {
          "base_uri": "https://localhost:8080/"
        },
        "id": "1ikhcPo3nc49",
        "outputId": "8f37d671-03a6-4ee4-a7ed-b31493a5ab29"
      },
      "execution_count": null,
      "outputs": [
        {
          "output_type": "stream",
          "name": "stdout",
          "text": [
            "Model: \"sequential\"\n",
            "_________________________________________________________________\n",
            " Layer (type)                Output Shape              Param #   \n",
            "=================================================================\n",
            " conv2d (Conv2D)             (None, 148, 148, 32)      896       \n",
            "                                                                 \n",
            " max_pooling2d (MaxPooling2D  (None, 74, 74, 32)       0         \n",
            " )                                                               \n",
            "                                                                 \n",
            " conv2d_1 (Conv2D)           (None, 72, 72, 64)        18496     \n",
            "                                                                 \n",
            " max_pooling2d_1 (MaxPooling  (None, 36, 36, 64)       0         \n",
            " 2D)                                                             \n",
            "                                                                 \n",
            " conv2d_2 (Conv2D)           (None, 34, 34, 128)       73856     \n",
            "                                                                 \n",
            " max_pooling2d_2 (MaxPooling  (None, 17, 17, 128)      0         \n",
            " 2D)                                                             \n",
            "                                                                 \n",
            " conv2d_3 (Conv2D)           (None, 15, 15, 128)       147584    \n",
            "                                                                 \n",
            " max_pooling2d_3 (MaxPooling  (None, 7, 7, 128)        0         \n",
            " 2D)                                                             \n",
            "                                                                 \n",
            " flatten (Flatten)           (None, 6272)              0         \n",
            "                                                                 \n",
            " dense (Dense)               (None, 512)               3211776   \n",
            "                                                                 \n",
            " dense_1 (Dense)             (None, 3)                 1539      \n",
            "                                                                 \n",
            "=================================================================\n",
            "Total params: 3,454,147\n",
            "Trainable params: 3,454,147\n",
            "Non-trainable params: 0\n",
            "_________________________________________________________________\n"
          ]
        }
      ]
    },
    {
      "cell_type": "code",
      "source": [
        "import numpy as np\n",
        "from google.colab import files\n",
        "from keras.preprocessing import image\n",
        "import matplotlib.pyplot as plt\n",
        "import matplotlib.image as mpimg\n",
        "import matplotlib.pyplot as plt\n",
        "import seaborn as sns\n",
        "sns.set()\n",
        "%matplotlib inline\n",
        "\n",
        "uploaded = files.upload()\n",
        "for fn in uploaded.keys():\n",
        "\n",
        "  path = fn\n",
        "  img = image.load_img(path, target_size=(150,150))\n",
        "  imgplot = plt.imshow(img)\n",
        "  x = image.img_to_array(img)\n",
        "  x = np.expand_dims(x, axis=0)\n",
        "\n",
        "  images = np.vstack([x])\n",
        "  classes = model.predict(images, batch_size=16)\n",
        "\n",
        "  print(fn)\n",
        "\n",
        "  if classes[0][0] == 1:\n",
        "    print('Ini Ekspresi Marah')\n",
        "  elif classes[0][1] == 1:\n",
        "    print('Ini Ekspresi Biasa Saja')\n",
        "  elif classes[0][2] == 1:\n",
        "    print('Ini Ekspresi Senyum')\n",
        "  else:\n",
        "    print('Error')"
      ],
      "metadata": {
        "colab": {
          "resources": {
            "http://localhost:8080/nbextensions/google.colab/files.js": {
              "data": "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",
              "ok": true,
              "headers": [
                [
                  "content-type",
                  "application/javascript"
                ]
              ],
              "status": 200,
              "status_text": ""
            }
          },
          "base_uri": "https://localhost:8080/",
          "height": 361
        },
        "id": "TjIxjej5pidm",
        "outputId": "595a1a6d-d5eb-419b-c6a2-ab7fd29e2667"
      },
      "execution_count": null,
      "outputs": [
        {
          "output_type": "display_data",
          "data": {
            "text/html": [
              "\n",
              "     <input type=\"file\" id=\"files-9d2d1ea2-8b8c-4b98-bca4-5b0e01765877\" name=\"files[]\" multiple disabled\n",
              "        style=\"border:none\" />\n",
              "     <output id=\"result-9d2d1ea2-8b8c-4b98-bca4-5b0e01765877\">\n",
              "      Upload widget is only available when the cell has been executed in the\n",
              "      current browser session. Please rerun this cell to enable.\n",
              "      </output>\n",
              "      <script src=\"/nbextensions/google.colab/files.js\"></script> "
            ],
            "text/plain": [
              "<IPython.core.display.HTML object>"
            ]
          },
          "metadata": {}
        },
        {
          "output_type": "stream",
          "name": "stdout",
          "text": [
            "Saving 0 (13).jpeg to 0 (13) (1).jpeg\n",
            "0 (13).jpeg\n",
            "Ini Ekspresi Marah\n"
          ]
        },
        {
          "output_type": "display_data",
          "data": {
            "image/png": "[encoded data removed]",
            "text/plain": [
              "<Figure size 432x288 with 1 Axes>"
            ]
          },
          "metadata": {
            "needs_background": "light"
          }
        }
      ]
    },
    {
      "cell_type": "code",
      "source": [
        "\n"
      ],
      "metadata": {
        "id": "6fMNOnxYpihx"
      },
      "execution_count": null,
      "outputs": []
    },
    {
      "cell_type": "code",
      "source": [
        ""
      ],
      "metadata": {
        "id": "zCnv49GPsPoI"
      },
      "execution_count": null,
      "outputs": []
    }
  ]
}